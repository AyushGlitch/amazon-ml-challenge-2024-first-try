{
 "cells": [
  {
   "cell_type": "code",
   "execution_count": 1,
   "metadata": {},
   "outputs": [],
   "source": [
    "import pandas as pd\n",
    "import numpy as np"
   ]
  },
  {
   "cell_type": "code",
   "execution_count": 29,
   "metadata": {},
   "outputs": [
    {
     "name": "stdout",
     "output_type": "stream",
     "text": [
      "(26178, 5)\n"
     ]
    },
    {
     "data": {
      "text/html": [
       "<div>\n",
       "<style scoped>\n",
       "    .dataframe tbody tr th:only-of-type {\n",
       "        vertical-align: middle;\n",
       "    }\n",
       "\n",
       "    .dataframe tbody tr th {\n",
       "        vertical-align: top;\n",
       "    }\n",
       "\n",
       "    .dataframe thead th {\n",
       "        text-align: right;\n",
       "    }\n",
       "</style>\n",
       "<table border=\"1\" class=\"dataframe\">\n",
       "  <thead>\n",
       "    <tr style=\"text-align: right;\">\n",
       "      <th></th>\n",
       "      <th>index</th>\n",
       "      <th>image_link</th>\n",
       "      <th>group_id</th>\n",
       "      <th>entity_name</th>\n",
       "      <th>extracted_text</th>\n",
       "    </tr>\n",
       "  </thead>\n",
       "  <tbody>\n",
       "    <tr>\n",
       "      <th>0</th>\n",
       "      <td>105077</td>\n",
       "      <td>https://m.media-amazon.com/images/I/61ENN-R3p3...</td>\n",
       "      <td>359859</td>\n",
       "      <td>item_weight</td>\n",
       "      <td>Dimension--(4i)--Material: Oxford Plaid Fabric...</td>\n",
       "    </tr>\n",
       "    <tr>\n",
       "      <th>1</th>\n",
       "      <td>105078</td>\n",
       "      <td>https://m.media-amazon.com/images/I/61ENRGzi9t...</td>\n",
       "      <td>810266</td>\n",
       "      <td>height</td>\n",
       "      <td>DIAMETER--1--HEIGHT--9\"--30oz--volume--HEIGHT-...</td>\n",
       "    </tr>\n",
       "    <tr>\n",
       "      <th>2</th>\n",
       "      <td>105079</td>\n",
       "      <td>https://m.media-amazon.com/images/I/61ENZXeW2D...</td>\n",
       "      <td>351134</td>\n",
       "      <td>width</td>\n",
       "      <td>3.66in/9.3cm--6.57in/16.7cm--5.63in/14.3cm--In...</td>\n",
       "    </tr>\n",
       "    <tr>\n",
       "      <th>3</th>\n",
       "      <td>105080</td>\n",
       "      <td>https://m.media-amazon.com/images/I/61ENgFCj0A...</td>\n",
       "      <td>276611</td>\n",
       "      <td>width</td>\n",
       "      <td>2.04in--5.11--5.66in--AT--8.66 in--30.7i--2.67...</td>\n",
       "    </tr>\n",
       "    <tr>\n",
       "      <th>4</th>\n",
       "      <td>105081</td>\n",
       "      <td>https://m.media-amazon.com/images/I/61ENiFwkWJ...</td>\n",
       "      <td>347404</td>\n",
       "      <td>width</td>\n",
       "      <td>12cm/4.7in--20cm--50cm/19.7in</td>\n",
       "    </tr>\n",
       "  </tbody>\n",
       "</table>\n",
       "</div>"
      ],
      "text/plain": [
       "    index                                         image_link  group_id  \\\n",
       "0  105077  https://m.media-amazon.com/images/I/61ENN-R3p3...    359859   \n",
       "1  105078  https://m.media-amazon.com/images/I/61ENRGzi9t...    810266   \n",
       "2  105079  https://m.media-amazon.com/images/I/61ENZXeW2D...    351134   \n",
       "3  105080  https://m.media-amazon.com/images/I/61ENgFCj0A...    276611   \n",
       "4  105081  https://m.media-amazon.com/images/I/61ENiFwkWJ...    347404   \n",
       "\n",
       "   entity_name                                     extracted_text  \n",
       "0  item_weight  Dimension--(4i)--Material: Oxford Plaid Fabric...  \n",
       "1       height  DIAMETER--1--HEIGHT--9\"--30oz--volume--HEIGHT-...  \n",
       "2        width  3.66in/9.3cm--6.57in/16.7cm--5.63in/14.3cm--In...  \n",
       "3        width  2.04in--5.11--5.66in--AT--8.66 in--30.7i--2.67...  \n",
       "4        width                      12cm/4.7in--20cm--50cm/19.7in  "
      ]
     },
     "execution_count": 29,
     "metadata": {},
     "output_type": "execute_result"
    }
   ],
   "source": [
    "df1= pd.read_csv('../1.csv')\n",
    "df2= pd.read_csv('../2.csv')\n",
    "df3= pd.read_csv('../3.csv')\n",
    "df4= pd.read_csv('../4.csv')\n",
    "df5= pd.read_csv('../5.csv')\n",
    "df6= pd.read_csv('../6.csv')\n",
    "df7= pd.read_csv('../7.csv')\n",
    "df8= pd.read_csv('../8.csv')\n",
    "df9= pd.read_csv('../9.csv')\n",
    "df10= pd.read_csv('../10.csv')\n",
    "df11= pd.read_csv('../11.csv')\n",
    "\n",
    "df12= pd.concat([df1,df2,df3,df4,df5,df6,df7,df8,df9,df10,df11], axis=0)\n",
    "# df12.drop(['Unnamed: 0'], axis=1, inplace=True)\n",
    "print(df12.shape)\n",
    "# df12.to_csv('../test_text_final.csv', index=False)\n",
    "df12.head()\n"
   ]
  },
  {
   "cell_type": "code",
   "execution_count": 14,
   "metadata": {},
   "outputs": [
    {
     "name": "stdout",
     "output_type": "stream",
     "text": [
      "(1000, 5)\n"
     ]
    },
    {
     "data": {
      "text/html": [
       "<div>\n",
       "<style scoped>\n",
       "    .dataframe tbody tr th:only-of-type {\n",
       "        vertical-align: middle;\n",
       "    }\n",
       "\n",
       "    .dataframe tbody tr th {\n",
       "        vertical-align: top;\n",
       "    }\n",
       "\n",
       "    .dataframe thead th {\n",
       "        text-align: right;\n",
       "    }\n",
       "</style>\n",
       "<table border=\"1\" class=\"dataframe\">\n",
       "  <thead>\n",
       "    <tr style=\"text-align: right;\">\n",
       "      <th></th>\n",
       "      <th>index</th>\n",
       "      <th>image_link</th>\n",
       "      <th>group_id</th>\n",
       "      <th>entity_name</th>\n",
       "      <th>extracted_text</th>\n",
       "    </tr>\n",
       "  </thead>\n",
       "  <tbody>\n",
       "    <tr>\n",
       "      <th>0</th>\n",
       "      <td>2004</td>\n",
       "      <td>https://m.media-amazon.com/images/I/4107YHaKHY...</td>\n",
       "      <td>348551</td>\n",
       "      <td>wattage</td>\n",
       "      <td>6838--LUTRON--COOPERSBURG,FA--A--120V~--60Hz--...</td>\n",
       "    </tr>\n",
       "    <tr>\n",
       "      <th>1</th>\n",
       "      <td>2005</td>\n",
       "      <td>https://m.media-amazon.com/images/I/4107YHaKHY...</td>\n",
       "      <td>348551</td>\n",
       "      <td>voltage</td>\n",
       "      <td>6838--LUTRON--COOPERSBURG,FA--A--120V~--60Hz--...</td>\n",
       "    </tr>\n",
       "    <tr>\n",
       "      <th>2</th>\n",
       "      <td>2006</td>\n",
       "      <td>https://m.media-amazon.com/images/I/4107hqnUv2...</td>\n",
       "      <td>501250</td>\n",
       "      <td>voltage</td>\n",
       "      <td>33FT Extension Cord--SJTW3/C 16 AWG--Indoor--o...</td>\n",
       "    </tr>\n",
       "    <tr>\n",
       "      <th>3</th>\n",
       "      <td>2007</td>\n",
       "      <td>https://m.media-amazon.com/images/I/4108Ud0GgI...</td>\n",
       "      <td>658003</td>\n",
       "      <td>height</td>\n",
       "      <td>ca.5,5cm--ca.30cm--ca.40cm</td>\n",
       "    </tr>\n",
       "    <tr>\n",
       "      <th>4</th>\n",
       "      <td>2008</td>\n",
       "      <td>https://m.media-amazon.com/images/I/4108ZITX2n...</td>\n",
       "      <td>276611</td>\n",
       "      <td>height</td>\n",
       "      <td>35 cm 133/4--25 cm97/8--35 cm 13 3/4)--31 31.6...</td>\n",
       "    </tr>\n",
       "  </tbody>\n",
       "</table>\n",
       "</div>"
      ],
      "text/plain": [
       "   index                                         image_link  group_id  \\\n",
       "0   2004  https://m.media-amazon.com/images/I/4107YHaKHY...    348551   \n",
       "1   2005  https://m.media-amazon.com/images/I/4107YHaKHY...    348551   \n",
       "2   2006  https://m.media-amazon.com/images/I/4107hqnUv2...    501250   \n",
       "3   2007  https://m.media-amazon.com/images/I/4108Ud0GgI...    658003   \n",
       "4   2008  https://m.media-amazon.com/images/I/4108ZITX2n...    276611   \n",
       "\n",
       "  entity_name                                     extracted_text  \n",
       "0     wattage  6838--LUTRON--COOPERSBURG,FA--A--120V~--60Hz--...  \n",
       "1     voltage  6838--LUTRON--COOPERSBURG,FA--A--120V~--60Hz--...  \n",
       "2     voltage  33FT Extension Cord--SJTW3/C 16 AWG--Indoor--o...  \n",
       "3      height                         ca.5,5cm--ca.30cm--ca.40cm  \n",
       "4      height  35 cm 133/4--25 cm97/8--35 cm 13 3/4)--31 31.6...  "
      ]
     },
     "execution_count": 14,
     "metadata": {},
     "output_type": "execute_result"
    }
   ],
   "source": [
    "# df11= pd.read_csv('../test_text_2_re.csv')\n",
    "# print(df11.shape)\n",
    "# df11.head()"
   ]
  },
  {
   "cell_type": "code",
   "execution_count": 13,
   "metadata": {},
   "outputs": [
    {
     "name": "stdout",
     "output_type": "stream",
     "text": [
      "<class 'pandas.core.frame.DataFrame'>\n",
      "RangeIndex: 1000 entries, 0 to 999\n",
      "Data columns (total 2 columns):\n",
      " #   Column       Non-Null Count  Dtype \n",
      "---  ------       --------------  ----- \n",
      " 0   index        1000 non-null   int64 \n",
      " 1   entity_name  1000 non-null   object\n",
      "dtypes: int64(1), object(1)\n",
      "memory usage: 15.8+ KB\n",
      "None\n"
     ]
    },
    {
     "data": {
      "text/html": [
       "<div>\n",
       "<style scoped>\n",
       "    .dataframe tbody tr th:only-of-type {\n",
       "        vertical-align: middle;\n",
       "    }\n",
       "\n",
       "    .dataframe tbody tr th {\n",
       "        vertical-align: top;\n",
       "    }\n",
       "\n",
       "    .dataframe thead th {\n",
       "        text-align: right;\n",
       "    }\n",
       "</style>\n",
       "<table border=\"1\" class=\"dataframe\">\n",
       "  <thead>\n",
       "    <tr style=\"text-align: right;\">\n",
       "      <th></th>\n",
       "      <th>index</th>\n",
       "      <th>entity_name</th>\n",
       "    </tr>\n",
       "  </thead>\n",
       "  <tbody>\n",
       "    <tr>\n",
       "      <th>0</th>\n",
       "      <td>2004</td>\n",
       "      <td>wattage</td>\n",
       "    </tr>\n",
       "    <tr>\n",
       "      <th>1</th>\n",
       "      <td>2005</td>\n",
       "      <td>voltage</td>\n",
       "    </tr>\n",
       "    <tr>\n",
       "      <th>2</th>\n",
       "      <td>2006</td>\n",
       "      <td>voltage</td>\n",
       "    </tr>\n",
       "    <tr>\n",
       "      <th>3</th>\n",
       "      <td>2007</td>\n",
       "      <td>height</td>\n",
       "    </tr>\n",
       "    <tr>\n",
       "      <th>4</th>\n",
       "      <td>2008</td>\n",
       "      <td>height</td>\n",
       "    </tr>\n",
       "  </tbody>\n",
       "</table>\n",
       "</div>"
      ],
      "text/plain": [
       "   index entity_name\n",
       "0   2004     wattage\n",
       "1   2005     voltage\n",
       "2   2006     voltage\n",
       "3   2007      height\n",
       "4   2008      height"
      ]
     },
     "execution_count": 13,
     "metadata": {},
     "output_type": "execute_result"
    }
   ],
   "source": [
    "df15= df11[['index', 'entity_name']]\n",
    "print(df15.info())\n",
    "df15.head()"
   ]
  },
  {
   "cell_type": "code",
   "execution_count": 34,
   "metadata": {},
   "outputs": [
    {
     "name": "stdout",
     "output_type": "stream",
     "text": [
      "(26178,)\n",
      "0\n"
     ]
    }
   ],
   "source": [
    "print(df12['index'].unique().shape)\n",
    "# print(df12['extracted_text'].isnull().sum())\n",
    "df12['extracted_text'] = df12['extracted_text'].fillna('')\n",
    "print(df12['extracted_text'].isnull().sum())\n",
    "\n",
    "df12.to_csv('../test_text_final.csv', index=False)"
   ]
  },
  {
   "cell_type": "code",
   "execution_count": 33,
   "metadata": {},
   "outputs": [
    {
     "data": {
      "text/html": [
       "<div>\n",
       "<style scoped>\n",
       "    .dataframe tbody tr th:only-of-type {\n",
       "        vertical-align: middle;\n",
       "    }\n",
       "\n",
       "    .dataframe tbody tr th {\n",
       "        vertical-align: top;\n",
       "    }\n",
       "\n",
       "    .dataframe thead th {\n",
       "        text-align: right;\n",
       "    }\n",
       "</style>\n",
       "<table border=\"1\" class=\"dataframe\">\n",
       "  <thead>\n",
       "    <tr style=\"text-align: right;\">\n",
       "      <th></th>\n",
       "      <th>index</th>\n",
       "      <th>image_link</th>\n",
       "      <th>group_id</th>\n",
       "      <th>entity_name</th>\n",
       "      <th>extracted_text</th>\n",
       "    </tr>\n",
       "  </thead>\n",
       "  <tbody>\n",
       "  </tbody>\n",
       "</table>\n",
       "</div>"
      ],
      "text/plain": [
       "Empty DataFrame\n",
       "Columns: [index, image_link, group_id, entity_name, extracted_text]\n",
       "Index: []"
      ]
     },
     "execution_count": 33,
     "metadata": {},
     "output_type": "execute_result"
    }
   ],
   "source": [
    "duplicates = df11[df11.duplicated(subset=['index'], keep=False)]\n",
    "duplicates\n",
    "# df11.head()"
   ]
  }
 ],
 "metadata": {
  "kernelspec": {
   "display_name": ".venv",
   "language": "python",
   "name": "python3"
  },
  "language_info": {
   "codemirror_mode": {
    "name": "ipython",
    "version": 3
   },
   "file_extension": ".py",
   "mimetype": "text/x-python",
   "name": "python",
   "nbconvert_exporter": "python",
   "pygments_lexer": "ipython3",
   "version": "3.12.6"
  }
 },
 "nbformat": 4,
 "nbformat_minor": 2
}
